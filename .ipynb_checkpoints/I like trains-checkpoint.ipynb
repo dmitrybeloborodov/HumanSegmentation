{
 "cells": [
  {
   "cell_type": "code",
   "execution_count": 1,
   "metadata": {},
   "outputs": [],
   "source": [
    "import sys\n",
    "import os\n",
    "import torch\n",
    "\n",
    "from train_unet import train_net\n",
    "from models.unet import UNet"
   ]
  },
  {
   "cell_type": "code",
   "execution_count": null,
   "metadata": {},
   "outputs": [
    {
     "name": "stdout",
     "output_type": "stream",
     "text": [
      "\n",
      "    Starting training:\n",
      "        Epochs: 2\n",
      "        Batch size: 1\n",
      "        Learning rate: 0.1\n",
      "        Training size: 2499\n",
      "        Validation size: 131\n",
      "        Checkpoints: True\n",
      "        CUDA: False\n",
      "    \n",
      "Starting epoch 1/2.\n",
      "(1, 3, 240, 240)\n"
     ]
    },
    {
     "name": "stderr",
     "output_type": "stream",
     "text": [
      "C:\\Anaconda3\\lib\\site-packages\\torch\\nn\\functional.py:1332: UserWarning: nn.functional.sigmoid is deprecated. Use torch.sigmoid instead.\n",
      "  warnings.warn(\"nn.functional.sigmoid is deprecated. Use torch.sigmoid instead.\")\n"
     ]
    },
    {
     "name": "stdout",
     "output_type": "stream",
     "text": [
      "(1, 240, 240)\n",
      "0.0000 --- loss: 0.690815\n",
      "(1, 3, 240, 240)\n",
      "(1, 240, 240)\n",
      "0.0004 --- loss: 0.687551\n",
      "(1, 3, 240, 240)\n",
      "(1, 240, 240)\n",
      "0.0008 --- loss: 0.662851\n",
      "(1, 3, 240, 240)\n",
      "(1, 240, 240)\n",
      "0.0012 --- loss: 0.695545\n",
      "(1, 3, 240, 240)\n",
      "(1, 240, 240)\n",
      "0.0016 --- loss: 0.627665\n",
      "(1, 3, 240, 240)\n",
      "(1, 240, 240)\n",
      "0.0020 --- loss: 0.677797\n",
      "(1, 3, 240, 240)\n",
      "(1, 240, 240)\n",
      "0.0024 --- loss: 0.704048\n"
     ]
    }
   ],
   "source": [
    "net = UNet(n_channels=3, n_classes=1)\n",
    "\n",
    "try:\n",
    "    train_net(net=net,\n",
    "              epochs=2,\n",
    "              batch_size=1,\n",
    "              lr=0.1,\n",
    "              gpu=False,\n",
    "              img_scale=1,\n",
    "              apply_aug=1)\n",
    "except KeyboardInterrupt:\n",
    "    torch.save(net.state_dict(), 'INTERRUPTED.pth')\n",
    "    print('Saved interrupt')\n",
    "    try:\n",
    "        sys.exit(0)\n",
    "    except SystemExit:\n",
    "        os._exit(0)"
   ]
  }
 ],
 "metadata": {
  "kernelspec": {
   "display_name": "Python 3",
   "language": "python",
   "name": "python3"
  },
  "language_info": {
   "codemirror_mode": {
    "name": "ipython",
    "version": 3
   },
   "file_extension": ".py",
   "mimetype": "text/x-python",
   "name": "python",
   "nbconvert_exporter": "python",
   "pygments_lexer": "ipython3",
   "version": "3.6.6"
  }
 },
 "nbformat": 4,
 "nbformat_minor": 2
}
